{
 "cells": [
  {
   "cell_type": "markdown",
   "metadata": {},
   "source": [
    "# Evaluation of SIFT positional transformation uncertatinty\n",
    "0) Specify datasets"
   ]
  },
  {
   "cell_type": "code",
   "execution_count": null,
   "metadata": {},
   "outputs": [],
   "source": [
    "%load_ext autoreload\n",
    "%autoreload 2\n",
    "%matplotlib inline\n",
    "\n",
    "from sift_uncertainty import *\n",
    "\n",
    "scenes = ['Alamo', 'Ellis_Island', 'Madrid_Metropolis', 'NYC_Library', 'Piazza_del_Popolo', 'Roman_Forum', 'Tower_of_London', 'Union_Square', 'Vienna_Cathedral', 'Yorkminster']\n",
    "scales = [3.97745, 0.94967, 14.44161, 6.95844, 6.25074, 24.38904, 15.72399, 6.85125, 15.07437, 13.26471]"
   ]
  },
  {
   "cell_type": "markdown",
   "metadata": {},
   "source": [
    "1) Load all the keypoints (angles, scales, positions) and GT homographies"
   ]
  },
  {
   "cell_type": "code",
   "execution_count": null,
   "metadata": {},
   "outputs": [],
   "source": [
    "data = {'sift_a1':[], 'sift_a2': [], 'sift_s1': [], 'sift_s2': [], 'sift_u1': [], 'sift_u2': [], 'gt_H1to2': [], 'gt_Hids': []}\n",
    "for scene, scale in zip(scenes, scales):\n",
    "    data = collect_all(scene, scale, data)"
   ]
  },
  {
   "cell_type": "markdown",
   "metadata": {},
   "source": [
    "2. Compute the squared mean reprojection error for each keypoint pair, i.e.,\n",
    "$\\epsilon_{x_i} = \\sqrt{(|x_i - \\widetilde{H}_i x_i'|_2^2 + |x_i' - \\widetilde{H}_i^{-1} x_i|_2^2)/8}$, where the factor 8 guaranteeing that $\\epsilon_{x_i}$ can be compared to the expected uncertainty of the coordinates."
   ]
  },
  {
   "cell_type": "code",
   "execution_count": null,
   "metadata": {},
   "outputs": [],
   "source": [
    "eps_x = np.zeros(len(data['sift_a1']),)\n",
    "num_inliers = np.zeros(len(data['sift_a1']),)\n",
    "\n",
    "H2pts_ids = [[] for j in range(len(data['gt_H1to2']))]\n",
    "for j,x in enumerate(data['gt_Hids']):\n",
    "    H2pts_ids[x].append(j)\n",
    "\n",
    "for i in tqdm(range(len(data['gt_H1to2']))):\n",
    "    ids = H2pts_ids[i]\n",
    "    H = data['gt_H1to2'][i]\n",
    "    u1 = np.array([data['sift_u1'][j] for j in ids])\n",
    "    u2 = np.array([data['sift_u2'][j] for j in ids])\n",
    "    num_inliers[ids] = np.ones((len(ids),)) * len(ids)\n",
    "    eps_1to2 = get_translation_error(u1, u2, H)\n",
    "    eps_2to1 = get_translation_error(u2, u1, np.linalg.inv(H))\n",
    "    eps_x[ids] = np.sqrt((eps_1to2**2 + eps_2to1**2)/8)\n",
    "\n",
    "std_eps = np.sqrt(np.sum(eps_x**2)/len(eps_x))\n",
    "print(f\"The standard deviation of the squared mean reprojection error is {std_eps:.3f}px.\")"
   ]
  },
  {
   "cell_type": "markdown",
   "metadata": {},
   "source": [
    "3) Show the histogram of the squared mean reprojection error $\\epsilon_{x}$"
   ]
  },
  {
   "cell_type": "code",
   "execution_count": null,
   "metadata": {},
   "outputs": [],
   "source": [
    "plt.hist(eps_x, 100, range=[0,6])\n",
    "plt.xlabel('The squared mean reprojection error $\\epsilon_{x_i}$')\n",
    "plt.ylabel('Occurrence')\n",
    "plt.title('Histogram of the squared mean reprojection error')\n",
    "plt.yscale('log')\n",
    "plt.savefig('histogram_of_robust_squared_mean_reprojection_error2.png', dpi=100)\n",
    "plt.show()"
   ]
  },
  {
   "cell_type": "markdown",
   "metadata": {},
   "source": [
    "4) Plot the heatmap of the squared mean reprojection error for chosen scale clusters "
   ]
  },
  {
   "cell_type": "code",
   "execution_count": null,
   "metadata": {},
   "outputs": [],
   "source": [
    "from sift_uncertainty import *\n",
    "cluster1_mean = 1.5\n",
    "clusterN_mean = 9.5\n",
    "N_clusters = 9\n",
    "min_samples_for_cluster = 20\n",
    "outlier_threshold = 4\n",
    "\n",
    "clusters_mean = np.linspace(cluster1_mean, clusterN_mean, N_clusters)\n",
    "inliers_ids = [j for j,x in enumerate(eps_x) if x<outlier_threshold]\n",
    "eps_x_filtered = np.array(eps_x)[inliers_ids]\n",
    "s1_filtered = np.array(data['sift_s1'])[inliers_ids]\n",
    "s2_filtered = np.array(data['sift_s2'])[inliers_ids]\n",
    "num_inliers_filtered = np.array(num_inliers)[inliers_ids]\n",
    "eps_grid, eps_grid_robust = cluster_reprojection_errors(s1_filtered, s2_filtered, \\\n",
    "    eps_x_filtered, num_inliers_filtered, clusters_mean, N_clusters)\n",
    "eps_std, eps_std_robust = positional_statistics_for_bins(eps_grid, eps_grid_robust, N_clusters, min_samples_for_cluster)\n",
    "plot_heatmap(np.flip(eps_std,axis=0), clusters_mean, np.flip(clusters_mean), \"The std of squared mean reprojection error [px]\", \\\n",
    "    \"sift scale in the first image\", \"sift scale in the second image\", \"std_of_squared_mean_reprojection_error.png\")\n",
    "\n",
    "plot_heatmap(np.flip(eps_std_robust,axis=0), clusters_mean, np.flip(clusters_mean), \"The robust std of squared mean reprojection error [px]\", \\\n",
    "    \"sift scale in the first image\", \"sift scale in the second image\", \"std_of_robust_squared_mean_reprojection_error.png\")"
   ]
  }
 ],
 "metadata": {
  "kernelspec": {
   "display_name": "Python 3.7.12 ('sift_uncertatinty')",
   "language": "python",
   "name": "python3"
  },
  "language_info": {
   "codemirror_mode": {
    "name": "ipython",
    "version": 3
   },
   "file_extension": ".py",
   "mimetype": "text/x-python",
   "name": "python",
   "nbconvert_exporter": "python",
   "pygments_lexer": "ipython3",
   "version": "3.7.12 | packaged by conda-forge | (default, Oct 26 2021, 06:08:21) \n[GCC 9.4.0]"
  },
  "orig_nbformat": 4,
  "vscode": {
   "interpreter": {
    "hash": "f53f0d87da01e253ece14572a760ac96bfee25eb92f2afbd373dcb1f4950a535"
   }
  }
 },
 "nbformat": 4,
 "nbformat_minor": 2
}
