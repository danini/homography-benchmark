{
 "cells": [
  {
   "cell_type": "markdown",
   "metadata": {},
   "source": [
    "# Evaluation of SIFT positional angular uncertatinty\n",
    "0) Specify datasets"
   ]
  },
  {
   "cell_type": "code",
   "execution_count": null,
   "metadata": {},
   "outputs": [],
   "source": [
    "%load_ext autoreload\n",
    "%autoreload 2\n",
    "%matplotlib inline\n",
    "\n",
    "from sift_uncertainty import *\n",
    "\n",
    "scenes = ['Alamo', 'Ellis_Island', 'Madrid_Metropolis', 'NYC_Library', 'Piazza_del_Popolo', 'Roman_Forum', 'Tower_of_London', 'Union_Square', 'Vienna_Cathedral', 'Yorkminster']\n",
    "scales = [3.97745, 0.94967, 14.44161, 6.95844, 6.25074, 24.38904, 15.72399, 6.85125, 15.07437, 13.26471]"
   ]
  },
  {
   "cell_type": "markdown",
   "metadata": {},
   "source": [
    "1) Load all the keypoints (angles, scales, positions) and GT homographies"
   ]
  },
  {
   "cell_type": "code",
   "execution_count": null,
   "metadata": {},
   "outputs": [],
   "source": [
    "data = {'sift_a1':[], 'sift_a2': [], 'sift_s1': [], 'sift_s2': [], 'sift_u1': [], 'sift_u2': [], 'gt_H1to2': [], 'gt_Hids': []}\n",
    "for scene, scale in zip(scenes, scales):\n",
    "    data = collect_all(scene, scale, data)"
   ]
  },
  {
   "cell_type": "markdown",
   "metadata": {},
   "source": [
    "2. Calculate the SIFT angular transformations"
   ]
  },
  {
   "cell_type": "code",
   "execution_count": null,
   "metadata": {},
   "outputs": [],
   "source": [
    "sift_a12 = np.array(data['sift_a2']) - np.array(data['sift_a1'])\n",
    "sift_a12[sift_a12 > 180] = sift_a12[sift_a12 > 180] - 360\n",
    "sift_a12[sift_a12 < -180] = sift_a12[sift_a12 < -180] + 360\n",
    "\n",
    "plt.hist(sift_a12, 90)\n",
    "plt.xlabel(r'The detector angular transformation $\\alpha_i$')\n",
    "plt.ylabel('Occurrence')\n",
    "plt.title('Histogram of the detector angular transformation')\n",
    "plt.yscale('log')\n",
    "plt.savefig('histogram_of_detector_angular_transformation2.png', dpi=100)\n",
    "plt.show()"
   ]
  },
  {
   "cell_type": "markdown",
   "metadata": {},
   "source": [
    "3) Aproximate the $H_i$ localy by the affinity matrix $A_i$"
   ]
  },
  {
   "cell_type": "code",
   "execution_count": null,
   "metadata": {},
   "outputs": [],
   "source": [
    "ACs = [[] for i in range(len(data['sift_a1']))]\n",
    "H2pts_ids = [[] for j in range(len(data['gt_Hids']))]\n",
    "for j,x in enumerate(data['gt_Hids']):\n",
    "    H2pts_ids[x].append(j)\n",
    "\n",
    "for i in tqdm(range(len(data['gt_H1to2']))):\n",
    "    ids = H2pts_ids[i]\n",
    "    H = data['gt_H1to2'][i]\n",
    "    u1 = np.array([data['sift_u1'][j] for j in ids])\n",
    "    u2 = np.array([data['sift_u2'][j] for j in ids])\n",
    "    ACs_arr = affines_from_homography_wf2(H, u1)     #, u2\n",
    "    for j, id in enumerate(ids):\n",
    "        ACs[id] = ACs_arr[j,:,:]"
   ]
  },
  {
   "cell_type": "markdown",
   "metadata": {},
   "source": [
    "4) Calculate the angular transformation from the projection of directional vectors"
   ]
  },
  {
   "cell_type": "code",
   "execution_count": null,
   "metadata": {},
   "outputs": [],
   "source": [
    "a1 = np.array(data['sift_a1']) * np.pi / 180 \n",
    "a2 = np.array(data['sift_a2']) * np.pi / 180 \n",
    "sift_d1 = np.array([np.cos(a1), np.sin(a1)])\n",
    "sift_d2 = np.array([np.cos(a2), np.sin(a2)])\n",
    "\n",
    "A_d1 = np.array([ACs[id] @ sift_d1[:,id] for id in range(len(data['sift_a1']))]).T\n",
    "d_a12_Adirect = directions_to_differential_angle(sift_d2, A_d1) * 180 / np.pi\n",
    "\n",
    "sift_d10 = np.concatenate([sift_d1, np.zeros((1,sift_d1.shape[1]))], axis=0)\n",
    "H_d1 = np.array([data['gt_H1to2'][data['gt_Hids'][id]] @ sift_d10[:,id] for id in range(len(data['sift_a1']))]).T\n",
    "d_a12_Hdirect = directions_to_differential_angle(sift_d2, H_d1[0:2,:]) * 180 / np.pi"
   ]
  },
  {
   "cell_type": "markdown",
   "metadata": {},
   "source": [
    "5) Decompose $A_i$ it to the angles by QT, SVD, and exponential analysis"
   ]
  },
  {
   "cell_type": "code",
   "execution_count": null,
   "metadata": {},
   "outputs": [],
   "source": [
    "gt_a12_svd, gt_a12_logm, gt_s12, cond_num_svd, shear_mag_logm = decompose_affines(ACs)"
   ]
  },
  {
   "cell_type": "markdown",
   "metadata": {},
   "source": [
    "6) Calculate the $\\Delta \\alpha$ for different decompositions"
   ]
  },
  {
   "cell_type": "code",
   "execution_count": null,
   "metadata": {},
   "outputs": [],
   "source": [
    "d_a12_svd = (np.array(gt_a12_svd)*180/np.pi) - sift_a12\n",
    "d_a12_logm = (np.array(gt_a12_logm)*180/np.pi) - sift_a12"
   ]
  },
  {
   "attachments": {},
   "cell_type": "markdown",
   "metadata": {},
   "source": [
    "7) Filter out the angular transformations with condition number > 1.2"
   ]
  },
  {
   "cell_type": "code",
   "execution_count": null,
   "metadata": {},
   "outputs": [],
   "source": [
    "cond_num_filter = np.array(cond_num_svd) < 1.2\n",
    "d_a12_Adirect_filtered = d_a12_Adirect[cond_num_filter]\n",
    "d_a12_svd_filtered = d_a12_svd[cond_num_filter]\n",
    "d_a12_logm_filtered = d_a12_logm[cond_num_filter]"
   ]
  },
  {
   "cell_type": "markdown",
   "metadata": {},
   "source": [
    "8) Plot the histogram of main approaches (directional, SVD, logm) angular transformation errors"
   ]
  },
  {
   "cell_type": "code",
   "execution_count": null,
   "metadata": {},
   "outputs": [],
   "source": [
    "plt.hist(sift_a12, 90, label=r'$\\alpha$')\n",
    "space = np.linspace(-180, 180, 90)\n",
    "h1, edges1 = np.histogram(d_a12_Adirect_filtered, bins=space)\n",
    "plt.stairs(h1, edges1, label=r'$\\Delta \\alpha_{direct}$')\n",
    "h2, edges2 = np.histogram(d_a12_svd_filtered, bins=space)\n",
    "plt.stairs(h2, edges2, label=r'$\\Delta \\alpha_{SVD}$')\n",
    "h3, edges3 = np.histogram(d_a12_logm_filtered, bins=space)\n",
    "plt.stairs(h3, edges3, label=r'$\\Delta \\alpha_{logm}$')\n",
    "plt.title('Histogram of the angular transformation error') \n",
    "plt.legend(loc='upper right')\n",
    "plt.xlabel(r'The angular transformation error $\\Delta \\alpha$')\n",
    "plt.ylabel('Occurrence (log-scale)')\n",
    "plt.yscale('log')\n",
    "plt.savefig('log_histogram_of_angular_transformation_error.png', dpi=100)\n",
    "plt.show()"
   ]
  },
  {
   "cell_type": "code",
   "execution_count": null,
   "metadata": {},
   "outputs": [],
   "source": [
    "print(f'The standard deviation of angular transformation error: {np.std(d_a12_logm_filtered)} deg.')\n",
    "print(f'The number of samples that fulfill the condition number threshold: {np.shape(d_a12_logm_filtered)[0]} out of {np.shape(cond_num_svd)[0]} correspondences.')"
   ]
  },
  {
   "attachments": {},
   "cell_type": "markdown",
   "metadata": {},
   "source": [
    "BONUS: evaluation of average error introduced by sheers for given condition number of A_i "
   ]
  },
  {
   "cell_type": "code",
   "execution_count": null,
   "metadata": {},
   "outputs": [],
   "source": [
    "p0_angle = -13.9462\n",
    "p1_angle = 14.5756\n",
    "p0_scale = -39.6470\n",
    "p1_scale = 39.2295\n",
    "edges_mean = (edges[0:-1] + edges[1:])/2\n",
    "angle_sheer_err = p0_angle + edges_mean * p1_angle\n",
    "scale_sheer_err = p0_scale + edges_mean * p1_scale\n",
    "angle_sheer_err_integral = []\n",
    "scale_sheer_err_integral = []\n",
    "for i in range(len(angle_sheer_err)):\n",
    "    weights = h[0:i+1] / np.sum(h[0:i+1])\n",
    "    angle_sheer_err_integral.append(np.sum(angle_sheer_err[0:i+1] * weights))\n",
    "    scale_sheer_err_integral.append(np.sum(scale_sheer_err[0:i+1] * weights))\n",
    "plt.scatter(edges_mean[1:], angle_sheer_err_integral[1:], label=r'average angular error [deg]')\n",
    "plt.scatter(edges_mean[1:], scale_sheer_err_integral[1:], label=r'average scale error [%]')\n",
    "plt.title('Histogram of the average error introduced by sheers: cond($A_i$) < threshold') \n",
    "plt.legend(loc='upper left')\n",
    "plt.xlabel(r'Threshold for condition number')\n",
    "plt.ylabel('Average error introduced by sheers')\n",
    "plt.savefig('histogram_of_cond_num2error_integral.png', dpi=100)\n",
    "plt.show()\n"
   ]
  }
 ],
 "metadata": {
  "kernelspec": {
   "display_name": "Python 3.7.12 ('sift_uncertatinty')",
   "language": "python",
   "name": "python3"
  },
  "language_info": {
   "codemirror_mode": {
    "name": "ipython",
    "version": 3
   },
   "file_extension": ".py",
   "mimetype": "text/x-python",
   "name": "python",
   "nbconvert_exporter": "python",
   "pygments_lexer": "ipython3",
   "version": "3.7.12"
  },
  "orig_nbformat": 4,
  "vscode": {
   "interpreter": {
    "hash": "f53f0d87da01e253ece14572a760ac96bfee25eb92f2afbd373dcb1f4950a535"
   }
  }
 },
 "nbformat": 4,
 "nbformat_minor": 2
}
